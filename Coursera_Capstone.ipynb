{
    "cells": [
        {
            "cell_type": "code",
            "execution_count": 1,
            "metadata": {},
            "outputs": [],
            "source": "# this notebook will be used for my capstone project from Coursera's IBM Data Science class\n# It will analize car accident severity in the Seattle area"
        },
        {
            "cell_type": "code",
            "execution_count": 6,
            "metadata": {},
            "outputs": [
                {
                    "name": "stdout",
                    "output_type": "stream",
                    "text": "Libraries imported.\n"
                }
            ],
            "source": "\nimport numpy as np # library to handle data in a vectorized manner\n\nimport pandas as pd # library for data analsysis\npd.set_option(\"display.max_columns\", None)\npd.set_option(\"display.max_rows\", None)\n\nimport json # library to handle JSON files\n\n\n\nfrom pandas.io.json import json_normalize # tranform JSON file into a pandas dataframe\n\n# Matplotlib and associated plotting modules\nimport matplotlib.cm as cm\nimport matplotlib.colors as colors\n\n# import k-means from clustering stage\nfrom sklearn.cluster import KMeans\n\n\n\nprint(\"Libraries imported.\")"
        },
        {
            "cell_type": "code",
            "execution_count": null,
            "metadata": {},
            "outputs": [],
            "source": "# The code was removed by Watson Studio for sharing."
        },
        {
            "cell_type": "code",
            "execution_count": 40,
            "metadata": {},
            "outputs": [
                {
                    "data": {
                        "text/plain": "SEVERITYCODE      194673\nX                 189339\nY                 189339\nOBJECTID          194673\nINCKEY            194673\nCOLDETKEY         194673\nREPORTNO          194673\nSTATUS            194673\nADDRTYPE          192747\nINTKEY             65070\nLOCATION          191996\nEXCEPTRSNCODE      84811\nEXCEPTRSNDESC       5638\nSEVERITYCODE.1    194673\nSEVERITYDESC      194673\nCOLLISIONTYPE     189769\nPERSONCOUNT       194673\nPEDCOUNT          194673\nPEDCYLCOUNT       194673\nVEHCOUNT          194673\nINCDATE           194673\nINCDTTM           194673\nJUNCTIONTYPE      188344\nSDOT_COLCODE      194673\nSDOT_COLDESC      194673\nINATTENTIONIND     29805\nUNDERINFL         189789\nWEATHER           189592\nROADCOND          189661\nLIGHTCOND         189503\nPEDROWNOTGRNT       4667\nSDOTCOLNUM        114936\nSPEEDING            9333\nST_COLCODE        194655\nST_COLDESC        189769\nSEGLANEKEY        194673\nCROSSWALKKEY      194673\nHITPARKEDCAR      194673\ndtype: int64"
                    },
                    "execution_count": 40,
                    "metadata": {},
                    "output_type": "execute_result"
                }
            ],
            "source": "df_data_1.count()"
        },
        {
            "cell_type": "code",
            "execution_count": null,
            "metadata": {},
            "outputs": [],
            "source": ""
        },
        {
            "cell_type": "code",
            "execution_count": null,
            "metadata": {},
            "outputs": [],
            "source": ""
        }
    ],
    "metadata": {
        "kernelspec": {
            "display_name": "Python 3.6",
            "language": "python",
            "name": "python3"
        },
        "language_info": {
            "codemirror_mode": {
                "name": "ipython",
                "version": 3
            },
            "file_extension": ".py",
            "mimetype": "text/x-python",
            "name": "python",
            "nbconvert_exporter": "python",
            "pygments_lexer": "ipython3",
            "version": "3.6.9"
        }
    },
    "nbformat": 4,
    "nbformat_minor": 1
}